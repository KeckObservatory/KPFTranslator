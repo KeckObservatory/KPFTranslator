{
 "cells": [
  {
   "cell_type": "code",
   "execution_count": 1,
   "id": "5d8a3e24-1fc3-4b39-a9ac-55396480eaa4",
   "metadata": {},
   "outputs": [],
   "source": [
    "from kpf.ObservingBlocks.ObservingBlock import ObservingBlock"
   ]
  },
  {
   "cell_type": "code",
   "execution_count": 2,
   "id": "08e092c2-977f-421e-88d4-14bfbb3ac43c",
   "metadata": {},
   "outputs": [],
   "source": [
    "OB1 = ObservingBlock({})"
   ]
  },
  {
   "cell_type": "code",
   "execution_count": 3,
   "id": "6fd88946-c2e3-4213-8f50-e5730da924e4",
   "metadata": {},
   "outputs": [],
   "source": [
    "result = ObservingBlock.resolve_target_name('Albireo')"
   ]
  },
  {
   "cell_type": "code",
   "execution_count": 4,
   "id": "67cef597-cd94-470e-b2c3-355c081fa89b",
   "metadata": {},
   "outputs": [
    {
     "data": {
      "text/plain": [
       "{'TargetName': 'Albireo',\n",
       " 'GaiaID': '2026116260337482112',\n",
       " '2MASSID': ' J19304330+2757347',\n",
       " 'RA': '19:30:43.28',\n",
       " 'Dec': '+27:57:34.65',\n",
       " 'Equinox': 2000,\n",
       " 'PMRA': 0.07372500000000001,\n",
       " 'PMDEC': -0.011127000000000003,\n",
       " 'Epoch': 2016.0,\n",
       " 'Parallax': '8.98',\n",
       " 'RadialVelocity': '0',\n",
       " 'Gmag': '2.65',\n",
       " 'Teff': '45000'}"
      ]
     },
     "execution_count": 4,
     "metadata": {},
     "output_type": "execute_result"
    }
   ],
   "source": [
    "result"
   ]
  },
  {
   "cell_type": "code",
   "execution_count": 5,
   "id": "f209e35b-947a-425f-bb4e-7330b4311f3d",
   "metadata": {},
   "outputs": [],
   "source": [
    "from astropy import units as u\n",
    "from astropy.time import Time\n",
    "from astropy.coordinates import SkyCoord\n",
    "from astroquery.vizier import Vizier\n",
    "from astroquery.simbad import Simbad\n"
   ]
  },
  {
   "cell_type": "code",
   "execution_count": 20,
   "id": "6748b630-6214-45c6-9c7b-1d8a60a41ced",
   "metadata": {},
   "outputs": [
    {
     "data": {
      "text/html": [
       "<div><i>Table length=1</i>\n",
       "<table id=\"table140420468769072\" class=\"table-striped table-bordered table-condensed\">\n",
       "<thead><tr><th>RA_ICRS</th><th>e_RA_ICRS</th><th>DE_ICRS</th><th>e_DE_ICRS</th><th>Source</th><th>Plx</th><th>e_Plx</th><th>PM</th><th>pmRA</th><th>e_pmRA</th><th>pmDE</th><th>e_pmDE</th><th>RUWE</th><th>FG</th><th>e_FG</th><th>Gmag</th><th>e_Gmag</th><th>FBP</th><th>e_FBP</th><th>BPmag</th><th>e_BPmag</th><th>FRP</th><th>e_FRP</th><th>RPmag</th><th>e_RPmag</th><th>BP-RP</th><th>RVDR2</th><th>e_RVDR2</th><th>Tefftemp</th><th>loggtemp</th><th>PS1</th><th>SDSSDR13</th><th>SkyMapper2</th><th>URAT1</th><th>GmagCorr</th><th>e_GmagCorr</th><th>FGCorr</th><th>RAJ2000</th><th>DEJ2000</th></tr></thead>\n",
       "<thead><tr><th>deg</th><th>mas</th><th>deg</th><th>mas</th><th></th><th>mas</th><th>mas</th><th>mas / yr</th><th>mas / yr</th><th>mas / yr</th><th>mas / yr</th><th>mas / yr</th><th></th><th></th><th></th><th>mag</th><th>mag</th><th></th><th></th><th>mag</th><th>mag</th><th></th><th></th><th>mag</th><th>mag</th><th>mag</th><th>km / s</th><th>km / s</th><th>K</th><th>log(cm.s**-2)</th><th></th><th></th><th></th><th></th><th>mag</th><th>mag</th><th>mag</th><th>deg</th><th>deg</th></tr></thead>\n",
       "<thead><tr><th>float64</th><th>float64</th><th>float64</th><th>float64</th><th>int64</th><th>float64</th><th>float32</th><th>float64</th><th>float64</th><th>float32</th><th>float64</th><th>float32</th><th>float64</th><th>float32</th><th>float32</th><th>float64</th><th>float64</th><th>float32</th><th>float32</th><th>float64</th><th>float64</th><th>float32</th><th>float32</th><th>float64</th><th>float64</th><th>float64</th><th>float64</th><th>float32</th><th>float32</th><th>float32</th><th>int64</th><th>int64</th><th>int32</th><th>int32</th><th>float64</th><th>float64</th><th>float32</th><th>float64</th><th>float64</th></tr></thead>\n",
       "<tr><td>292.68033974695</td><td>0.2726</td><td>27.95962417696</td><td>0.3489</td><td>2026116260337482112</td><td>8.9816</td><td>0.4474</td><td>12.165</td><td>4.915</td><td>0.337</td><td>-11.127</td><td>0.462</td><td>9.432</td><td>1.638e+09</td><td>5.219e+06</td><td>2.651682</td><td>0.004423</td><td>4.937e+08</td><td>6.886e+06</td><td>3.604917</td><td>0.015398</td><td>9.931e+08</td><td>1.319e+07</td><td>2.255392</td><td>0.014912</td><td>1.349524</td><td>--</td><td>--</td><td>--</td><td>--</td><td>--</td><td>--</td><td>--</td><td>590364671</td><td>2.651682</td><td>0.004423</td><td>1.638e+09</td><td>292.68031501401</td><td>27.95967363122</td></tr>\n",
       "</table></div>"
      ],
      "text/plain": [
       "<Table length=1>\n",
       "    RA_ICRS     e_RA_ICRS     DE_ICRS     e_DE_ICRS ... e_GmagCorr    FGCorr       RAJ2000         DEJ2000    \n",
       "      deg          mas          deg          mas    ...    mag         mag           deg             deg      \n",
       "    float64      float64      float64      float64  ...  float64     float32       float64         float64    \n",
       "--------------- --------- --------------- --------- ... ---------- ----------- --------------- ---------------\n",
       "292.68033974695    0.2726  27.95962417696    0.3489 ...   0.004423   1.638e+09 292.68031501401  27.95967363122"
      ]
     },
     "execution_count": 20,
     "metadata": {},
     "output_type": "execute_result"
    }
   ],
   "source": [
    "cat = 'I/350/gaiaedr3'\n",
    "#cols = ['RA_ICRS', 'DE_ICRS', 'Source', 'Plx', 'Gmag', 'RVDR2', 'Tefftemp']\n",
    "r = Vizier(catalog=cat).query_constraints(Source='2026116260337482112')[0]\n",
    "r"
   ]
  },
  {
   "cell_type": "code",
   "execution_count": 35,
   "id": "e1352a25-2e46-474e-b1a8-93b23ecbe8cf",
   "metadata": {},
   "outputs": [
    {
     "data": {
      "text/html": [
       "<div><i>Table length=1</i>\n",
       "<table id=\"table140420607842048\" class=\"table-striped table-bordered table-condensed\">\n",
       "<thead><tr><th>RAJ2000</th><th>DEJ2000</th><th>_2MASS</th><th>Jmag</th><th>e_Jmag</th><th>Hmag</th><th>e_Hmag</th><th>Kmag</th><th>e_Kmag</th><th>Qflg</th><th>Rflg</th><th>Bflg</th><th>Cflg</th><th>Xflg</th><th>Aflg</th></tr></thead>\n",
       "<thead><tr><th>deg</th><th>deg</th><th></th><th>mag</th><th>mag</th><th>mag</th><th>mag</th><th>mag</th><th>mag</th><th></th><th></th><th></th><th></th><th></th><th></th></tr></thead>\n",
       "<thead><tr><th>float64</th><th>float64</th><th>str17</th><th>float32</th><th>float32</th><th>float32</th><th>float32</th><th>float32</th><th>float32</th><th>str3</th><th>int16</th><th>int16</th><th>str3</th><th>uint8</th><th>uint8</th></tr></thead>\n",
       "<tr><td>292.680424</td><td>27.959661</td><td>19304330+2757347</td><td>1.125</td><td>0.298</td><td>0.464</td><td>0.156</td><td>0.394</td><td>0.214</td><td>DCC</td><td>333</td><td>111</td><td>000</td><td>0</td><td>0</td></tr>\n",
       "</table></div>"
      ],
      "text/plain": [
       "<Table length=1>\n",
       " RAJ2000    DEJ2000        _2MASS        Jmag   e_Jmag   Hmag   e_Hmag ... Qflg  Rflg  Bflg Cflg  Xflg  Aflg\n",
       "   deg        deg                        mag     mag     mag     mag   ...                                  \n",
       " float64    float64        str17       float32 float32 float32 float32 ... str3 int16 int16 str3 uint8 uint8\n",
       "---------- ---------- ---------------- ------- ------- ------- ------- ... ---- ----- ----- ---- ----- -----\n",
       "292.680424  27.959661 19304330+2757347   1.125   0.298   0.464   0.156 ...  DCC   333   111  000     0     0"
      ]
     },
     "execution_count": 35,
     "metadata": {},
     "output_type": "execute_result"
    }
   ],
   "source": [
    "result = Vizier(catalog='II/246/out').query_object('J19304330+2757347', radius=1*u.arcsec)\n",
    "result[0]"
   ]
  },
  {
   "cell_type": "code",
   "execution_count": 39,
   "id": "2cc626a0-fec6-4659-8b7d-af62c6112d64",
   "metadata": {},
   "outputs": [
    {
     "data": {
      "text/html": [
       "<div><i>Table length=50</i>\n",
       "<table id=\"table140420360521904\" class=\"table-striped table-bordered table-condensed\">\n",
       "<thead><tr><th>RAJ2000</th><th>DEJ2000</th><th>_2MASS</th><th>Jmag</th><th>e_Jmag</th><th>Hmag</th><th>e_Hmag</th><th>Kmag</th><th>e_Kmag</th><th>Qflg</th><th>Rflg</th><th>Bflg</th><th>Cflg</th><th>Xflg</th><th>Aflg</th></tr></thead>\n",
       "<thead><tr><th>deg</th><th>deg</th><th></th><th>mag</th><th>mag</th><th>mag</th><th>mag</th><th>mag</th><th>mag</th><th></th><th></th><th></th><th></th><th></th><th></th></tr></thead>\n",
       "<thead><tr><th>float64</th><th>float64</th><th>str17</th><th>float32</th><th>float32</th><th>float32</th><th>float32</th><th>float32</th><th>float32</th><th>str3</th><th>int16</th><th>int16</th><th>str3</th><th>uint8</th><th>uint8</th></tr></thead>\n",
       "<tr><td>277.333044</td><td>-9.716786</td><td>18291993-0943004</td><td>14.044</td><td>0.045</td><td>11.551</td><td>0.045</td><td>10.418</td><td>0.029</td><td>AAA</td><td>999</td><td>999</td><td>000</td><td>0</td><td>0</td></tr>\n",
       "<tr><td>277.340497</td><td>-9.712573</td><td>18292171-0942452</td><td>14.877</td><td>0.036</td><td>13.121</td><td>0.042</td><td>12.421</td><td>0.038</td><td>AAA</td><td>999</td><td>999</td><td>c0c</td><td>0</td><td>0</td></tr>\n",
       "<tr><td>277.336137</td><td>-9.711979</td><td>18292067-0942431</td><td>13.643</td><td>0.032</td><td>10.976</td><td>0.031</td><td>9.726</td><td>0.024</td><td>AAA</td><td>999</td><td>999</td><td>000</td><td>0</td><td>0</td></tr>\n",
       "<tr><td>277.336289</td><td>-9.710410</td><td>18292070-0942374</td><td>15.584</td><td>0.100</td><td>13.762</td><td>0.125</td><td>12.882</td><td>0.086</td><td>ABA</td><td>999</td><td>999</td><td>ccc</td><td>0</td><td>0</td></tr>\n",
       "<tr><td>277.253106</td><td>-9.778402</td><td>18290074-0946422</td><td>16.497</td><td>--</td><td>14.463</td><td>--</td><td>13.899</td><td>0.094</td><td>UUB</td><td>56</td><td>56</td><td>00c</td><td>0</td><td>0</td></tr>\n",
       "<tr><td>277.247218</td><td>-9.777456</td><td>18285933-0946388</td><td>16.672</td><td>--</td><td>14.273</td><td>0.058</td><td>13.237</td><td>0.054</td><td>UBA</td><td>999</td><td>999</td><td>000</td><td>0</td><td>0</td></tr>\n",
       "<tr><td>...</td><td>...</td><td>...</td><td>...</td><td>...</td><td>...</td><td>...</td><td>...</td><td>...</td><td>...</td><td>...</td><td>...</td><td>...</td><td>...</td><td>...</td></tr>\n",
       "<tr><td>277.237865</td><td>-9.768313</td><td>18285708-0946059</td><td>17.461</td><td>--</td><td>14.932</td><td>--</td><td>13.666</td><td>0.122</td><td>UUB</td><td>45</td><td>45</td><td>00c</td><td>0</td><td>0</td></tr>\n",
       "<tr><td>277.240670</td><td>-9.767027</td><td>18285776-0946012</td><td>16.077</td><td>0.103</td><td>14.561</td><td>--</td><td>14.112</td><td>--</td><td>BUU</td><td>999</td><td>999</td><td>c00</td><td>0</td><td>0</td></tr>\n",
       "<tr><td>277.244345</td><td>-9.766026</td><td>18285864-0945576</td><td>15.842</td><td>0.082</td><td>14.155</td><td>0.047</td><td>13.463</td><td>0.072</td><td>BAA</td><td>999</td><td>999</td><td>ccc</td><td>0</td><td>0</td></tr>\n",
       "<tr><td>277.248701</td><td>-9.762600</td><td>18285968-0945453</td><td>14.170</td><td>0.022</td><td>12.399</td><td>0.022</td><td>11.704</td><td>0.019</td><td>AAA</td><td>999</td><td>999</td><td>000</td><td>0</td><td>0</td></tr>\n",
       "<tr><td>277.245215</td><td>-9.763595</td><td>18285885-0945489</td><td>15.242</td><td>0.045</td><td>14.359</td><td>0.045</td><td>14.071</td><td>0.077</td><td>ABB</td><td>999</td><td>999</td><td>0cc</td><td>0</td><td>0</td></tr>\n",
       "<tr><td>277.246962</td><td>-9.761589</td><td>18285927-0945417</td><td>15.812</td><td>0.080</td><td>14.100</td><td>0.044</td><td>13.393</td><td>0.041</td><td>BAA</td><td>999</td><td>999</td><td>c00</td><td>0</td><td>0</td></tr>\n",
       "</table></div>"
      ],
      "text/plain": [
       "<Table length=50>\n",
       " RAJ2000    DEJ2000        _2MASS        Jmag   e_Jmag   Hmag   e_Hmag ... Qflg  Rflg  Bflg Cflg  Xflg  Aflg\n",
       "   deg        deg                        mag     mag     mag     mag   ...                                  \n",
       " float64    float64        str17       float32 float32 float32 float32 ... str3 int16 int16 str3 uint8 uint8\n",
       "---------- ---------- ---------------- ------- ------- ------- ------- ... ---- ----- ----- ---- ----- -----\n",
       "277.333044  -9.716786 18291993-0943004  14.044   0.045  11.551   0.045 ...  AAA   999   999  000     0     0\n",
       "277.340497  -9.712573 18292171-0942452  14.877   0.036  13.121   0.042 ...  AAA   999   999  c0c     0     0\n",
       "277.336137  -9.711979 18292067-0942431  13.643   0.032  10.976   0.031 ...  AAA   999   999  000     0     0\n",
       "277.336289  -9.710410 18292070-0942374  15.584   0.100  13.762   0.125 ...  ABA   999   999  ccc     0     0\n",
       "277.253106  -9.778402 18290074-0946422  16.497      --  14.463      -- ...  UUB    56    56  00c     0     0\n",
       "277.247218  -9.777456 18285933-0946388  16.672      --  14.273   0.058 ...  UBA   999   999  000     0     0\n",
       "       ...        ...              ...     ...     ...     ...     ... ...  ...   ...   ...  ...   ...   ...\n",
       "277.237865  -9.768313 18285708-0946059  17.461      --  14.932      -- ...  UUB    45    45  00c     0     0\n",
       "277.240670  -9.767027 18285776-0946012  16.077   0.103  14.561      -- ...  BUU   999   999  c00     0     0\n",
       "277.244345  -9.766026 18285864-0945576  15.842   0.082  14.155   0.047 ...  BAA   999   999  ccc     0     0\n",
       "277.248701  -9.762600 18285968-0945453  14.170   0.022  12.399   0.022 ...  AAA   999   999  000     0     0\n",
       "277.245215  -9.763595 18285885-0945489  15.242   0.045  14.359   0.045 ...  ABB   999   999  0cc     0     0\n",
       "277.246962  -9.761589 18285927-0945417  15.812   0.080  14.100   0.044 ...  BAA   999   999  c00     0     0"
      ]
     },
     "execution_count": 39,
     "metadata": {},
     "output_type": "execute_result"
    }
   ],
   "source": [
    "result = Vizier(catalog='II/246/out').query_constraints(_2MASS='19304330+2757347')\n",
    "result[0]"
   ]
  },
  {
   "cell_type": "code",
   "execution_count": null,
   "id": "456205e8-e3cd-4bf5-b5f4-6dc6a4e7e33e",
   "metadata": {},
   "outputs": [],
   "source": []
  }
 ],
 "metadata": {
  "kernelspec": {
   "display_name": "Python 3 (ipykernel)",
   "language": "python",
   "name": "python3"
  },
  "language_info": {
   "codemirror_mode": {
    "name": "ipython",
    "version": 3
   },
   "file_extension": ".py",
   "mimetype": "text/x-python",
   "name": "python",
   "nbconvert_exporter": "python",
   "pygments_lexer": "ipython3",
   "version": "3.9.19"
  }
 },
 "nbformat": 4,
 "nbformat_minor": 5
}
